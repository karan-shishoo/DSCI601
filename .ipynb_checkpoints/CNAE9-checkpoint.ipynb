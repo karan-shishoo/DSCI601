{
 "cells": [
  {
   "cell_type": "code",
   "execution_count": 1,
   "id": "fb9012c6",
   "metadata": {},
   "outputs": [],
   "source": [
    "import pandas as pd, numpy as np, re\n",
    "from sklearn.preprocessing import MultiLabelBinarizer\n",
    "\n",
    "## Sk learn imports\n",
    "from sklearn.linear_model import LogisticRegression, Ridge\n",
    "\n",
    "## contextualbandit package\n",
    "from contextualbandits.online import SeparateClassifiers\n",
    "from contextualbandits.offpolicy import OffsetTree\n",
    "from contextualbandits.offpolicy import DoublyRobustEstimator\n",
    "\n",
    "## Plotting\n",
    "import matplotlib.pyplot as plt, pandas as pd\n",
    "import seaborn as sns\n",
    "from pylab import rcParams\n",
    "\n",
    "import pandas as pd\n",
    "\n",
    "from tqdm import tqdm\n",
    "\n",
    "\n",
    "import numpy as np\n",
    "\n",
    "import random\n",
    "import math\n",
    "\n",
    "\n",
    "from matplotlib import pyplot as plt\n",
    "from matplotlib.pyplot import ylim\n",
    "from matplotlib.pyplot import figure\n",
    "\n",
    "%matplotlib inline\n",
    "\n",
    "\n",
    "import torch\n",
    "import tensorflow as tf"
   ]
  },
  {
   "cell_type": "code",
   "execution_count": 2,
   "id": "36e9ec98",
   "metadata": {},
   "outputs": [],
   "source": [
    "import mmap\n",
    "\n",
    "def get_num_lines(file_path):\n",
    "    fp = open(file_path, \"r+\")\n",
    "    buf = mmap.mmap(fp.fileno(), 0)\n",
    "    lines = 0\n",
    "    while buf.readline():\n",
    "        lines += 1\n",
    "    return lines"
   ]
  },
  {
   "cell_type": "code",
   "execution_count": 3,
   "id": "ed1e8021",
   "metadata": {},
   "outputs": [
    {
     "name": "stderr",
     "output_type": "stream",
     "text": [
      "100%|████████████████████████████████████████████████████████████████████████████████████████████████████████████████████████████████████████| 1080/1080 [00:00<00:00, 56833.39it/s]\n"
     ]
    }
   ],
   "source": [
    "def parse_data(filename):\n",
    "    feature_list = []\n",
    "    preds = []\n",
    "    with open(filename, \"rb\") as f:\n",
    "        for line in tqdm(f, total=get_num_lines(filename)):\n",
    "            line = line.decode('ASCII').strip()\n",
    "            features = line.split(',')\n",
    "            preds.append(features[0])\n",
    "            features = features[1:]\n",
    "            feature_list.append(features)\n",
    "    return feature_list, preds\n",
    "\n",
    "features, preds = parse_data(\"datasets/CNAE-9.data\")"
   ]
  },
  {
   "cell_type": "code",
   "execution_count": 4,
   "id": "451b7180",
   "metadata": {},
   "outputs": [],
   "source": [
    "mlb = MultiLabelBinarizer()\n",
    "preds_list = [[i] for i in preds]\n",
    "preds_mlb = mlb.fit_transform(preds_list)\n",
    "features = np.array(features)"
   ]
  },
  {
   "cell_type": "code",
   "execution_count": 5,
   "id": "a18b067c",
   "metadata": {},
   "outputs": [
    {
     "name": "stdout",
     "output_type": "stream",
     "text": [
      "(1080, 856)\n",
      "(1080, 9)\n"
     ]
    }
   ],
   "source": [
    "print(features.shape)\n",
    "print(preds_mlb.shape)"
   ]
  },
  {
   "cell_type": "code",
   "execution_count": 6,
   "id": "81555f0f",
   "metadata": {},
   "outputs": [],
   "source": [
    "y = preds_mlb"
   ]
  },
  {
   "cell_type": "code",
   "execution_count": 7,
   "id": "df3e5b74",
   "metadata": {},
   "outputs": [],
   "source": [
    "features = features.astype(int)"
   ]
  },
  {
   "cell_type": "code",
   "execution_count": 8,
   "id": "92ba3ad3",
   "metadata": {},
   "outputs": [
    {
     "name": "stdout",
     "output_type": "stream",
     "text": [
      "[106 108 103 136 109 104 115 117 102]\n"
     ]
    },
    {
     "data": {
      "text/plain": [
       "0.1111111111111111"
      ]
     },
     "execution_count": 8,
     "metadata": {},
     "output_type": "execute_result"
    }
   ],
   "source": [
    "random_slice_index = np.random.choice(y.shape[0], 1000)\n",
    "random_slice = np.array([y[x] for x in random_slice_index])\n",
    "print(np.sum(random_slice, axis = 0))\n",
    "mean_constant = np.sum(y, axis = 0)[np.argmax(np.sum(random_slice, axis = 0))]/y.shape[0]\n",
    "mean_constant"
   ]
  },
  {
   "cell_type": "code",
   "execution_count": 9,
   "id": "7f03fd94",
   "metadata": {},
   "outputs": [],
   "source": [
    "## We can see that there are 1080 rows to  explore so we can split the data into an exploration set\n",
    "## initial test set\n",
    "## and then an off-policy set\n",
    "\n",
    "# the 'explorer' polcy will be fit with this small sample of the rows\n",
    "st_seed = 0\n",
    "end_seed = 200\n",
    "\n",
    "# then it will choose actions for this larger sample\n",
    "st_exploration = 0\n",
    "end_exploration = 500\n",
    "\n",
    "# the new policy will be evaluated with a separate test set\n",
    "st_test = 500\n",
    "end_test = 1080\n",
    "\n",
    "# separating the covariates data for each case\n",
    "Xseed = features[st_seed:end_seed, :]\n",
    "Xexplore_sample = features[st_exploration:end_exploration, :]\n",
    "Xtest = features[st_test:end_test, :]\n",
    "nchoices = y.shape[1]\n",
    "\n",
    "# now constructing an exploration policy as explained above, with fully-labeled data\n",
    "explorer = LogisticRegression(solver=\"sag\", max_iter=15000)\n",
    "explorer.fit(Xseed, np.argmax(y[st_seed:end_seed], axis=1))\n",
    "\n",
    "# letting the exploration policy choose actions which will then be used new policy input\n",
    "actions_explore_sample = explorer.predict(Xexplore_sample)\n",
    "rewards_explore_sample = y[st_exploration:end_exploration, :]\\\n",
    "                        [np.arange(end_exploration - st_exploration), actions_explore_sample]\n",
    "\n",
    "# extracting the probabilities it estimated\n",
    "ix_internal_actions = {j:i for i,j in enumerate(explorer.classes_)}\n",
    "ix_internal_actions = [ix_internal_actions[i] for i in actions_explore_sample]\n",
    "ix_internal_actions = np.array(ix_internal_actions)\n",
    "prob_actions_explore = explorer.predict_proba(Xexplore_sample)[np.arange(Xexplore_sample.shape[0]),\n",
    "                                                               ix_internal_actions]"
   ]
  },
  {
   "cell_type": "code",
   "execution_count": 10,
   "id": "7a874ade",
   "metadata": {},
   "outputs": [
    {
     "name": "stdout",
     "output_type": "stream",
     "text": [
      "Test set mean reward - Separate Classifiers:  0.1103448275862069\n"
     ]
    }
   ],
   "source": [
    "new_policy = SeparateClassifiers(base_algorithm=LogisticRegression(solver=\"sag\", max_iter=15000),\n",
    "                                 nchoices=y.shape[1], beta_prior=None, smoothing=None)\n",
    "new_policy.fit(X=Xexplore_sample, a=actions_explore_sample, r=rewards_explore_sample)\n",
    "mean_reward_naive = np.mean(y[st_test:end_test, :]\\\n",
    "                             [np.arange(end_test - st_test), new_policy.predict(Xtest)])\n",
    "print(\"Test set mean reward - Separate Classifiers: \", mean_reward_naive)"
   ]
  },
  {
   "cell_type": "code",
   "execution_count": 11,
   "id": "f5058e96",
   "metadata": {},
   "outputs": [
    {
     "name": "stdout",
     "output_type": "stream",
     "text": [
      "Test set mean reward - Separate Classifiers + Prior:  0.35344827586206895\n"
     ]
    }
   ],
   "source": [
    "new_policy = SeparateClassifiers(base_algorithm=LogisticRegression(solver=\"sag\", max_iter=15000),\n",
    "                                 nchoices=y.shape[1], beta_prior=\"auto\")\n",
    "new_policy.fit(X=Xexplore_sample, a=actions_explore_sample, r=rewards_explore_sample)\n",
    "mean_reward_beta = np.mean(y[st_test:end_test, :]\\\n",
    "                            [np.arange(end_test - st_test), new_policy.predict(Xtest)])\n",
    "print(\"Test set mean reward - Separate Classifiers + Prior: \", mean_reward_beta)"
   ]
  },
  {
   "cell_type": "code",
   "execution_count": 12,
   "id": "cdd1c697",
   "metadata": {},
   "outputs": [
    {
     "name": "stdout",
     "output_type": "stream",
     "text": [
      "Test set mean reward - Separate Classifiers + Smoothing:  0.1103448275862069\n"
     ]
    }
   ],
   "source": [
    "new_policy = SeparateClassifiers(base_algorithm=LogisticRegression(solver=\"sag\", max_iter=15000),\n",
    "                                 nchoices=y.shape[1], beta_prior=None, smoothing = (1,2))\n",
    "new_policy.fit(X=Xexplore_sample, a=actions_explore_sample, r=rewards_explore_sample)\n",
    "mean_reward_sm = np.mean(y[st_test:end_test, :]\\\n",
    "                            [np.arange(end_test - st_test), new_policy.predict(Xtest)])\n",
    "print(\"Test set mean reward - Separate Classifiers + Smoothing: \", mean_reward_sm)"
   ]
  },
  {
   "cell_type": "code",
   "execution_count": 13,
   "id": "5d0df450",
   "metadata": {},
   "outputs": [
    {
     "name": "stdout",
     "output_type": "stream",
     "text": [
      "Test set mean reward - Offset Tree technique:  0.9086206896551724\n"
     ]
    }
   ],
   "source": [
    "new_policy = OffsetTree(base_algorithm=LogisticRegression(solver=\"sag\", max_iter=15000), nchoices=y.shape[1])\n",
    "new_policy.fit(X=Xexplore_sample, a=actions_explore_sample, r=rewards_explore_sample, p=prob_actions_explore)\n",
    "mean_reward_ot = np.mean(y[st_test:end_test, :][np.arange(end_test - st_test), new_policy.predict(Xtest)])\n",
    "print(\"Test set mean reward - Offset Tree technique: \", mean_reward_ot)"
   ]
  },
  {
   "cell_type": "code",
   "execution_count": 14,
   "id": "697b1aa6",
   "metadata": {},
   "outputs": [
    {
     "name": "stdout",
     "output_type": "stream",
     "text": [
      "Test set mean reward - Doubly-Robust Estimator:  0.8741379310344828\n"
     ]
    }
   ],
   "source": [
    "new_policy = DoublyRobustEstimator(base_algorithm = Ridge(),\n",
    "                                   reward_estimator = LogisticRegression(solver=\"sag\", max_iter=15000),\n",
    "                                   nchoices = y.shape[1],\n",
    "                                   method = 'rovr', beta_prior = None, smoothing = None)\n",
    "new_policy.fit(X=Xexplore_sample, a=actions_explore_sample, r=rewards_explore_sample, p=prob_actions_explore)\n",
    "mean_reward_dr = np.mean(y[st_test:end_test, :][np.arange(end_test - st_test), new_policy.predict(Xtest)])\n",
    "print(\"Test set mean reward - Doubly-Robust Estimator: \", mean_reward_dr)"
   ]
  },
  {
   "cell_type": "code",
   "execution_count": 15,
   "id": "ec6a3801",
   "metadata": {},
   "outputs": [
    {
     "name": "stdout",
     "output_type": "stream",
     "text": [
      "Test set mean reward - Doubly-Robust Estimator + Prior:  0.8741379310344828\n"
     ]
    }
   ],
   "source": [
    "new_policy = DoublyRobustEstimator(base_algorithm = Ridge(),\n",
    "                                   reward_estimator = LogisticRegression(solver=\"sag\", max_iter=15000),\n",
    "                                   nchoices = y.shape[1],\n",
    "                                   method = 'rovr', beta_prior = \"auto\", smoothing = None)\n",
    "new_policy.fit(X=Xexplore_sample, a=actions_explore_sample, r=rewards_explore_sample, p=prob_actions_explore)\n",
    "mean_reward_dr_prior = np.mean(y[st_test:end_test, :][np.arange(end_test - st_test), new_policy.predict(Xtest)])\n",
    "print(\"Test set mean reward - Doubly-Robust Estimator + Prior: \", mean_reward_dr_prior)"
   ]
  },
  {
   "cell_type": "code",
   "execution_count": 16,
   "id": "13613e4c",
   "metadata": {},
   "outputs": [
    {
     "name": "stdout",
     "output_type": "stream",
     "text": [
      "Test set mean reward - Doubly-Robust Estimator + Smoothing:  0.8620689655172413\n"
     ]
    }
   ],
   "source": [
    "new_policy = DoublyRobustEstimator(base_algorithm = Ridge(),\n",
    "                                   reward_estimator = LogisticRegression(solver=\"sag\", max_iter=15000),\n",
    "                                   nchoices = y.shape[1],\n",
    "                                   method = 'rovr', beta_prior = None, smoothing = (1, 2))\n",
    "new_policy.fit(X=Xexplore_sample, a=actions_explore_sample, r=rewards_explore_sample, p=prob_actions_explore)\n",
    "mean_reward_dr_sm = np.mean(y[st_test:end_test, :][np.arange(end_test - st_test), new_policy.predict(Xtest)])\n",
    "print(\"Test set mean reward - Doubly-Robust Estimator + Smoothing: \", mean_reward_dr_sm)"
   ]
  },
  {
   "cell_type": "code",
   "execution_count": 17,
   "id": "38de5b28",
   "metadata": {},
   "outputs": [
    {
     "data": {
      "image/png": "[encoded data removed]",
      "text/plain": [
       "<Figure size 1920x960 with 1 Axes>"
      ]
     },
     "metadata": {
      "needs_background": "light"
     },
     "output_type": "display_data"
    }
   ],
   "source": [
    "results = pd.DataFrame({\n",
    "    'Off-policy Learning Method' : ['Best - Constant', 'Naive', 'Naive + Prior', 'Naive + Smoothing', 'Doubly-Robust',\n",
    "                                    'Doubly-Robust + Prior', 'Doubly-Robust + Smoothing', 'Offset Tree'],\n",
    "    'Test set mean reward' : [mean_constant, mean_reward_naive, mean_reward_beta, mean_reward_sm, mean_reward_dr,\n",
    "                              mean_reward_dr_prior, mean_reward_dr_sm, mean_reward_ot]\n",
    "})\n",
    "figure(figsize=(24, 12), dpi=80)\n",
    "ylim(top=1) \n",
    "sns.set(font_scale = 1.3)\n",
    "# rcParams['figure.figsize'] = 22, 7\n",
    "sns.barplot(x = \"Off-policy Learning Method\", y=\"Test set mean reward\", data=results)\n",
    "plt.title('Off-policy Learning on CoverType Dataset\\nBase Classifier is Logistic Regression')\n",
    "plt.show()"
   ]
  },
  {
   "cell_type": "markdown",
   "id": "ac931437",
   "metadata": {},
   "source": [
    "## Random selection of covertype"
   ]
  },
  {
   "cell_type": "code",
   "execution_count": 18,
   "id": "8ede1203",
   "metadata": {},
   "outputs": [
    {
     "data": {
      "text/plain": [
       "0.09074074074074075"
      ]
     },
     "execution_count": 18,
     "metadata": {},
     "output_type": "execute_result"
    }
   ],
   "source": [
    "N = y.shape[0]\n",
    "d = y.shape[1]\n",
    "selected = []\n",
    "total_reward = 0\n",
    "rand_avgs = []\n",
    "\n",
    "for n in range(N):\n",
    "    selection = random.randrange(d)\n",
    "    selected.append(selection)\n",
    "    reward = y[n][selection]\n",
    "    total_reward += reward\n",
    "    rand_average = total_reward/(n+1)\n",
    "    rand_avgs.append(rand_average)\n",
    "rand_avgs[-1]"
   ]
  },
  {
   "cell_type": "markdown",
   "id": "c961cda0",
   "metadata": {},
   "source": [
    "## Epsilon greedy"
   ]
  },
  {
   "cell_type": "code",
   "execution_count": 19,
   "id": "981387a5",
   "metadata": {},
   "outputs": [
    {
     "data": {
      "text/plain": [
       "0.10648148148148148"
      ]
     },
     "execution_count": 19,
     "metadata": {},
     "output_type": "execute_result"
    }
   ],
   "source": [
    "N = y.shape[0]\n",
    "d = y.shape[1]\n",
    "selected = []\n",
    "total_reward = 0  \n",
    "\n",
    "eps = 0.1\n",
    "average = [0] * d\n",
    "counts =  [0] * d\n",
    "rewards =  []\n",
    "\n",
    "epsilon_average = []\n",
    "\n",
    "for n in range(N):\n",
    "    p = np.random.random()\n",
    "    \n",
    "    if p < eps:\n",
    "        selection = np.random.choice(d)\n",
    "    else:\n",
    "        selection = np.argmax([a for a in average])\n",
    "    \n",
    "    reward = y[n][selection]\n",
    "    total_reward += reward\n",
    "    rewards.append(reward)\n",
    "    average[selection] = (average[selection]*counts[selection] + reward)/(counts[selection] + 1)\n",
    "    counts[selection] += 1\n",
    "\n",
    "    e_average = total_reward/(n+1)\n",
    "    epsilon_average.append(e_average)\n",
    "    \n",
    "epsilon_average[-1]"
   ]
  },
  {
   "cell_type": "markdown",
   "id": "8ba7ad56",
   "metadata": {},
   "source": [
    "## UCB covertype"
   ]
  },
  {
   "cell_type": "code",
   "execution_count": 20,
   "id": "9c4feabe",
   "metadata": {},
   "outputs": [
    {
     "data": {
      "text/plain": [
       "1.0"
      ]
     },
     "execution_count": 20,
     "metadata": {},
     "output_type": "execute_result"
    }
   ],
   "source": [
    "N = y.shape[0]\n",
    "d = y.shape[1]\n",
    "selected = []\n",
    "total_reward = 0  \n",
    "\n",
    "UCB_averages = []\n",
    "\n",
    "numbers_of_selections = np.zeros(d)\n",
    "sums_of_reward = np.zeros(d)\n",
    "\n",
    "for n in range(N):\n",
    "    max_upper_bound = 0\n",
    "    ad = 0\n",
    "    for i in range(0, d):\n",
    "        if (numbers_of_selections[i] > 0):\n",
    "            average_reward = sums_of_reward[i] / numbers_of_selections[i]\n",
    "            delta_i = math.sqrt(2 * math.log(n+1) / numbers_of_selections[i])\n",
    "            upper_bound = average_reward + delta_i\n",
    "        else:\n",
    "            upper_bound = 1e100\n",
    "        if upper_bound > max_upper_bound:\n",
    "            max_upper_bound = upper_bound\n",
    "            selection = i\n",
    "    selected.append(ad)\n",
    "    numbers_of_selections[selection] += 1\n",
    "    reward = y[n][selection]\n",
    "    sums_of_reward[selection] += reward\n",
    "    total_reward += reward\n",
    "    average = total_reward/(n+1)\n",
    "    UCB_averages.append(average)\n",
    "UCB_averages[-1]"
   ]
  },
  {
   "cell_type": "code",
   "execution_count": 21,
   "id": "7a5c3f63",
   "metadata": {},
   "outputs": [
    {
     "data": {
      "image/png": "[encoded data removed]",
      "text/plain": [
       "<Figure size 1920x960 with 1 Axes>"
      ]
     },
     "metadata": {},
     "output_type": "display_data"
    }
   ],
   "source": [
    "figure(figsize=(24, 12), dpi=80)\n",
    "results = pd.DataFrame({\n",
    "    'Learning Methods' : ['Random', 'epsilon', 'UCB'],\n",
    "    'Test set mean reward' : [rand_avgs[-1], epsilon_average[-1], UCB_averages[-1]]\n",
    "})\n",
    "\n",
    "sns.set(font_scale = 1.3)\n",
    "ylim(top=0.8) \n",
    "rcParams['figure.figsize'] = 22, 7\n",
    "sns.barplot(x = \"Learning Methods\", y=\"Test set mean reward\", data=results)\n",
    "plt.title('Learning on CoverType Dataset\\nno context')\n",
    "plt.show()"
   ]
  },
  {
   "cell_type": "code",
   "execution_count": 22,
   "id": "86dcb6fc",
   "metadata": {},
   "outputs": [
    {
     "data": {
      "text/plain": [
       "<tf.Tensor: shape=(1080, 856), dtype=int32, numpy=\n",
       "array([[0, 0, 0, ..., 0, 0, 0],\n",
       "       [0, 0, 0, ..., 0, 0, 0],\n",
       "       [0, 0, 0, ..., 0, 0, 0],\n",
       "       ...,\n",
       "       [0, 0, 0, ..., 0, 0, 0],\n",
       "       [0, 0, 0, ..., 0, 0, 0],\n",
       "       [0, 0, 0, ..., 0, 0, 0]])>"
      ]
     },
     "execution_count": 22,
     "metadata": {},
     "output_type": "execute_result"
    }
   ],
   "source": [
    "data_tensor = tf.convert_to_tensor(features)\n",
    "data_tensor"
   ]
  },
  {
   "cell_type": "code",
   "execution_count": null,
   "id": "d119194b",
   "metadata": {},
   "outputs": [],
   "source": []
  },
  {
   "cell_type": "code",
   "execution_count": null,
   "id": "413481ce",
   "metadata": {},
   "outputs": [],
   "source": []
  }
 ],
 "metadata": {
  "kernelspec": {
   "display_name": "Python 3 (ipykernel)",
   "language": "python",
   "name": "python3"
  },
  "language_info": {
   "codemirror_mode": {
    "name": "ipython",
    "version": 3
   },
   "file_extension": ".py",
   "mimetype": "text/x-python",
   "name": "python",
   "nbconvert_exporter": "python",
   "pygments_lexer": "ipython3",
   "version": "3.8.0"
  }
 },
 "nbformat": 4,
 "nbformat_minor": 5
}
